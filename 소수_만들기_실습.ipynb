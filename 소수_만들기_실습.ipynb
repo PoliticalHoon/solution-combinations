{
  "nbformat": 4,
  "nbformat_minor": 0,
  "metadata": {
    "colab": {
      "provenance": []
    },
    "kernelspec": {
      "name": "python3",
      "display_name": "Python 3"
    },
    "language_info": {
      "name": "python"
    }
  },
  "cells": [
    {
      "cell_type": "markdown",
      "source": [
        "# **소수 만들기**"
      ],
      "metadata": {
        "id": "mYsxMinEgldR"
      }
    },
    {
      "cell_type": "code",
      "source": [
        "from itertools import combinations\n",
        "def is_prime(i):\n",
        "    for a in range(2,i):\n",
        "      if i % a == 0:\n",
        "        return False\n",
        "    else:\n",
        "      return True\n",
        "def solution(nums):\n",
        "    count = 0\n",
        "    for comb in combinations(nums, 3):\n",
        "        print(sum(comb))\n",
        "        if is_prime(sum(comb)):\n",
        "            count += 1\n",
        "    return f\"소수의 수는 {count}개.\"\n",
        "nums=[1,2,3,4,5,6,7,8,9]\n",
        "print(solution(nums))"
      ],
      "metadata": {
        "id": "13qTIk2djpOH"
      },
      "execution_count": null,
      "outputs": []
    },
    {
      "cell_type": "markdown",
      "source": [
        "우선 itertools 모듈에서 combinations 함수를 임포트합니다. 이 함수는 주어진 리스트에서 가능한 모든 조합을 생성합니다."
      ],
      "metadata": {
        "id": "4sAbqVgugr8g"
      }
    },
    {
      "cell_type": "code",
      "source": [
        "from itertools import combinations"
      ],
      "metadata": {
        "id": "dFIDYfqSgw8Y"
      },
      "execution_count": null,
      "outputs": []
    },
    {
      "cell_type": "markdown",
      "source": [
        "주어진 숫자가 소수인지 확인하는 함수를 생성합니다.\n",
        "숫자를 2에서 주어진 숫자 -1까지 반복하고 만약 주어진 숫자가 그 숫자들 중 나누어 떨어지는 숫자가 존재한다면, 이는 소수가 아니므로 False를 반환합니다.\n",
        "\n",
        "그 숫자들 중 나누어 떨어지는 숫자가 하나도 없을 경우, 이는 소수이므로 True를 반환합니다."
      ],
      "metadata": {
        "id": "SHPyEdR8gy3Q"
      }
    },
    {
      "cell_type": "code",
      "source": [
        "def is_prime(i):\n",
        "    for a in range(2,i):\n",
        "      if i % a == 0:\n",
        "        return False\n",
        "    else:\n",
        "      return True"
      ],
      "metadata": {
        "id": "h5syOFNTg5XQ"
      },
      "execution_count": null,
      "outputs": []
    },
    {
      "cell_type": "markdown",
      "source": [
        "조합에서 소수의 개수를 찾는 함수를 생성하고, 소수의 개수를 0으로 설정해둡니다."
      ],
      "metadata": {
        "id": "Hn3vT0QYhrMp"
      }
    },
    {
      "cell_type": "code",
      "source": [
        "def solution(nums):\n",
        "    count = 0"
      ],
      "metadata": {
        "id": "pHBWkCX3hvyR"
      },
      "execution_count": null,
      "outputs": []
    },
    {
      "cell_type": "markdown",
      "source": [
        "nums 입력 리스트에서 3개의 요소로 이루어진 모든 조합에 대해 반복합니다. 그리고 sum으로 현재의 조합의 합을 출력합니다."
      ],
      "metadata": {
        "id": "Xwe066-MiLHH"
      }
    },
    {
      "cell_type": "code",
      "source": [
        "for comb in combinations(nums, 3):\n",
        "        print(sum(comb))"
      ],
      "metadata": {
        "id": "ra_fUsBcicOQ"
      },
      "execution_count": null,
      "outputs": []
    },
    {
      "cell_type": "markdown",
      "source": [
        "만약 조합의 합이 소수라면, 소수의 개수를 하나 추가합니다."
      ],
      "metadata": {
        "id": "nfEJz5WGifyn"
      }
    },
    {
      "cell_type": "code",
      "source": [
        " if is_prime(sum(comb)):\n",
        "            count += 1"
      ],
      "metadata": {
        "id": "bd5bAitKi9AI"
      },
      "execution_count": null,
      "outputs": []
    },
    {
      "cell_type": "markdown",
      "source": [
        "반복을 끝낸 후 최종적으로 결정된 소수의 개수를 출력합니다."
      ],
      "metadata": {
        "id": "FuwsRDGRjLMg"
      }
    },
    {
      "cell_type": "code",
      "source": [
        "return f\"소수의 수는 {count}개.\""
      ],
      "metadata": {
        "id": "KW-E91F3jHzY"
      },
      "execution_count": null,
      "outputs": []
    },
    {
      "cell_type": "markdown",
      "source": [
        "nums 입력 리스트를 작성합니다. nums 내 요소는 3개 이상 50개 이하여야 하며, 요소의 값이 1이상 1000 이하인 자연수이며, 중복되지 않아야 합니다."
      ],
      "metadata": {
        "id": "NBK4M_1jjN7H"
      }
    },
    {
      "cell_type": "code",
      "source": [
        "nums=[1,2,3,4,5,6,7,8,9]"
      ],
      "metadata": {
        "id": "9MQB8XiyjdnA"
      },
      "execution_count": null,
      "outputs": []
    },
    {
      "cell_type": "markdown",
      "source": [
        "solution 함수를 호출하여 결과를 출력합니다."
      ],
      "metadata": {
        "id": "aCfmcHw1je9g"
      }
    },
    {
      "cell_type": "code",
      "source": [
        "print(solution(nums))"
      ],
      "metadata": {
        "id": "FL2qX2i_jjsQ"
      },
      "execution_count": null,
      "outputs": []
    }
  ]
}