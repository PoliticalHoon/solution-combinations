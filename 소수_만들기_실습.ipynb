{
  "nbformat": 4,
  "nbformat_minor": 0,
  "metadata": {
    "colab": {
      "provenance": []
    },
    "kernelspec": {
      "name": "python3",
      "display_name": "Python 3"
    },
    "language_info": {
      "name": "python"
    }
  },
  "cells": [
    {
      "cell_type": "code",
      "execution_count": 2,
      "metadata": {
        "id": "CL0ZQW4MTqbl",
        "colab": {
          "base_uri": "https://localhost:8080/"
        },
        "outputId": "82a04fc1-1aa5-4462-a3ee-8814ee22c66c"
      },
      "outputs": [
        {
          "output_type": "stream",
          "name": "stdout",
          "text": [
            "6\n",
            "7\n",
            "8\n",
            "9\n",
            "10\n",
            "11\n",
            "12\n",
            "8\n",
            "9\n",
            "10\n",
            "11\n",
            "12\n",
            "13\n",
            "10\n",
            "11\n",
            "12\n",
            "13\n",
            "14\n",
            "12\n",
            "13\n",
            "14\n",
            "15\n",
            "14\n",
            "15\n",
            "16\n",
            "16\n",
            "17\n",
            "18\n",
            "9\n",
            "10\n",
            "11\n",
            "12\n",
            "13\n",
            "14\n",
            "11\n",
            "12\n",
            "13\n",
            "14\n",
            "15\n",
            "13\n",
            "14\n",
            "15\n",
            "16\n",
            "15\n",
            "16\n",
            "17\n",
            "17\n",
            "18\n",
            "19\n",
            "12\n",
            "13\n",
            "14\n",
            "15\n",
            "16\n",
            "14\n",
            "15\n",
            "16\n",
            "17\n",
            "16\n",
            "17\n",
            "18\n",
            "18\n",
            "19\n",
            "20\n",
            "15\n",
            "16\n",
            "17\n",
            "18\n",
            "17\n",
            "18\n",
            "19\n",
            "19\n",
            "20\n",
            "21\n",
            "18\n",
            "19\n",
            "20\n",
            "20\n",
            "21\n",
            "22\n",
            "21\n",
            "22\n",
            "23\n",
            "24\n",
            "소수의 수는 26개.\n"
          ]
        }
      ],
      "source": [
        "from itertools import combinations\n",
        "def is_prime(i):\n",
        "    for a in range(2,i):\n",
        "      if i % a == 0:\n",
        "        return False\n",
        "    else:\n",
        "      return True\n",
        "def solution(nums):\n",
        "    count = 0\n",
        "    for comb in combinations(nums, 3):\n",
        "        print(sum(comb))\n",
        "        if is_prime(sum(comb)):\n",
        "            count += 1\n",
        "    return f\"소수의 수는 {count}개.\"\n",
        "nums=[1,2,3,4,5,6,7,8,9]\n",
        "print(solution(nums))"
      ]
    },
    {
      "cell_type": "markdown",
      "source": [
        "itertools 모듈에서 combinations만 빼온 후\n",
        "i가 소수인지 판별하는 is_prime 함수를 만든다. i가 소수이면 True를 반환하고, 그렇지 않으면 False를 반환한다.\n",
        "그 후 nums 리스트에서 combinations를 이용해 서로 다른 3개의 수 골라 더했을 때 소수가 되는 수를 is_prime에 넣어서, True가 반환되면 count의 수를 1씩 올린다."
      ],
      "metadata": {
        "id": "VUp8XeWrTwjp"
      }
    }
  ]
}